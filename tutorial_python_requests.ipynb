{
 "cells": [
  {
   "cell_type": "markdown",
   "id": "e548e7e9-89e2-4fa0-98d7-a125d809489e",
   "metadata": {},
   "source": [
    "# [Tutorial] Introduction to Python Requests Module"
   ]
  },
  {
   "cell_type": "markdown",
   "id": "e08af850-947e-40c5-ba7f-223f54b7396d",
   "metadata": {},
   "source": [
    "## Reference\n",
    "RealPython : [Python's Requests Library (Guide)](https://realpython.com/python-requests/)"
   ]
  },
  {
   "cell_type": "markdown",
   "id": "e767d319-24d5-419a-8651-75e609df9d00",
   "metadata": {},
   "source": [
    "## Requirted Modules"
   ]
  },
  {
   "cell_type": "code",
   "execution_count": 1,
   "id": "b8bed6a4-0b30-415d-ab51-1b09cf1d3864",
   "metadata": {},
   "outputs": [
    {
     "name": "stdout",
     "output_type": "stream",
     "text": [
      "Requirement already satisfied: requests in /var/home/boedybios/anaconda3/lib/python3.11/site-packages (2.31.0)\n",
      "Requirement already satisfied: charset-normalizer<4,>=2 in /var/home/boedybios/anaconda3/lib/python3.11/site-packages (from requests) (2.0.4)\n",
      "Requirement already satisfied: idna<4,>=2.5 in /var/home/boedybios/anaconda3/lib/python3.11/site-packages (from requests) (3.4)\n",
      "Requirement already satisfied: urllib3<3,>=1.21.1 in /var/home/boedybios/anaconda3/lib/python3.11/site-packages (from requests) (2.0.7)\n",
      "Requirement already satisfied: certifi>=2017.4.17 in /var/home/boedybios/anaconda3/lib/python3.11/site-packages (from requests) (2024.2.2)\n"
     ]
    }
   ],
   "source": [
    "!pip install requests"
   ]
  },
  {
   "cell_type": "code",
   "execution_count": 2,
   "id": "5777565d-cf71-41db-b487-f5c9c6df71eb",
   "metadata": {},
   "outputs": [],
   "source": [
    "import requests"
   ]
  },
  {
   "cell_type": "markdown",
   "id": "a60aa6d6-758e-4c16-a018-03b1fe57683a",
   "metadata": {},
   "source": [
    "## Quick Start"
   ]
  },
  {
   "cell_type": "code",
   "execution_count": 3,
   "id": "f5512f8a-4deb-4f63-87ff-b2166974d3dc",
   "metadata": {},
   "outputs": [],
   "source": [
    "response = requests.get(\"https://api.github.com\")"
   ]
  },
  {
   "cell_type": "code",
   "execution_count": 4,
   "id": "0a15d1f1-9c91-441b-8b81-814abe5187e8",
   "metadata": {},
   "outputs": [
    {
     "data": {
      "text/plain": [
       "requests.models.Response"
      ]
     },
     "execution_count": 4,
     "metadata": {},
     "output_type": "execute_result"
    }
   ],
   "source": [
    "type(response)"
   ]
  },
  {
   "cell_type": "code",
   "execution_count": 5,
   "id": "91800396-93b7-4f55-965f-2f8fa58b9ff4",
   "metadata": {},
   "outputs": [
    {
     "name": "stdout",
     "output_type": "stream",
     "text": [
      "<Response [200]>\n"
     ]
    }
   ],
   "source": [
    "# response\n",
    "print(response)"
   ]
  },
  {
   "cell_type": "markdown",
   "id": "45e61393-76aa-4214-951a-e1e2f6ebc822",
   "metadata": {},
   "source": [
    "## HTTP Status Codes\n",
    "\n",
    "Reference: [Wikipedia](https://en.wikipedia.org/wiki/List_of_HTTP_status_codes)"
   ]
  },
  {
   "cell_type": "code",
   "execution_count": 6,
   "id": "32f1f41a-929f-4cba-b41c-e9710d4f68ac",
   "metadata": {},
   "outputs": [
    {
     "data": {
      "text/plain": [
       "404"
      ]
     },
     "execution_count": 6,
     "metadata": {},
     "output_type": "execute_result"
    }
   ],
   "source": [
    "# response = requests.get(\"https://api.github.com\")\n",
    "response = requests.get(\"https://api.github.com/invalid\")\n",
    "\n",
    "response.status_code"
   ]
  },
  {
   "cell_type": "code",
   "execution_count": 7,
   "id": "def8c7ee-0e45-45d3-a77b-5b0520aa6a60",
   "metadata": {},
   "outputs": [
    {
     "name": "stdout",
     "output_type": "stream",
     "text": [
      "Not Found.\n"
     ]
    }
   ],
   "source": [
    "if response.status_code == 200:\n",
    "    print(\"Success!\")\n",
    "elif response.status_code == 404:\n",
    "    print(\"Not Found.\")"
   ]
  },
  {
   "cell_type": "markdown",
   "id": "92b6224e-4657-4f2c-b5d4-185ce5f1c9ba",
   "metadata": {},
   "source": [
    "##### If you use a `Response` instance in a conditional expression, then it’ll evaluate to `True` if the status code was smaller than `400`, and `False` otherwise."
   ]
  },
  {
   "cell_type": "code",
   "execution_count": 8,
   "id": "0a4baf61-3c19-4060-bd2c-9f5963fe3964",
   "metadata": {},
   "outputs": [
    {
     "name": "stdout",
     "output_type": "stream",
     "text": [
      "Non-success status code: 404\n"
     ]
    }
   ],
   "source": [
    "if response:\n",
    "    print(\"Success!\")\n",
    "else:\n",
    "    print(f\"Non-success status code: {response.status_code}\")"
   ]
  },
  {
   "cell_type": "markdown",
   "id": "4c825ce0-c408-43f5-bb98-d620c657b5e4",
   "metadata": {},
   "source": [
    "##### Using Request’s built-in capacities to raise an exception."
   ]
  },
  {
   "cell_type": "code",
   "execution_count": 9,
   "id": "3d615581-163f-48ee-89ad-b28b7459fe69",
   "metadata": {},
   "outputs": [
    {
     "name": "stdout",
     "output_type": "stream",
     "text": [
      "HTTP error occurred: 404 Client Error: Not Found for url: https://api.github.com/invalid\n"
     ]
    }
   ],
   "source": [
    "import requests\n",
    "from requests.exceptions import HTTPError\n",
    "\n",
    "# url = \"https://api.github.com\"\n",
    "url = \"https://api.github.com/invalid\"\n",
    "\n",
    "try:\n",
    "    response = requests.get(url)\n",
    "    response.raise_for_status()\n",
    "except HTTPError as http_err:\n",
    "    print(f\"HTTP error occurred: {http_err}\")\n",
    "except Exception as err:\n",
    "    print(f\"Other error occurred: {err}\")\n",
    "else:\n",
    "    print(\"Success!\")"
   ]
  },
  {
   "cell_type": "markdown",
   "id": "b2a7ccef-a707-4e59-9d56-3e62a84ff0b1",
   "metadata": {},
   "source": [
    "## Response Content"
   ]
  },
  {
   "cell_type": "code",
   "execution_count": 10,
   "id": "48d41d79-e6e7-4bc4-a147-607af87937fd",
   "metadata": {},
   "outputs": [
    {
     "data": {
      "text/plain": [
       "b'{\"current_user_url\":\"https://api.github.com/user\",\"current_user_authorizations_html_url\":\"https://github.com/settings/connections/applications{/client_id}\",\"authorizations_url\":\"https://api.github.com/authorizations\",\"code_search_url\":\"https://api.github.com/search/code?q={query}{&page,per_page,sort,order}\",\"commit_search_url\":\"https://api.github.com/search/commits?q={query}{&page,per_page,sort,order}\",\"emails_url\":\"https://api.github.com/user/emails\",\"emojis_url\":\"https://api.github.com/emojis\",\"events_url\":\"https://api.github.com/events\",\"feeds_url\":\"https://api.github.com/feeds\",\"followers_url\":\"https://api.github.com/user/followers\",\"following_url\":\"https://api.github.com/user/following{/target}\",\"gists_url\":\"https://api.github.com/gists{/gist_id}\",\"hub_url\":\"https://api.github.com/hub\",\"issue_search_url\":\"https://api.github.com/search/issues?q={query}{&page,per_page,sort,order}\",\"issues_url\":\"https://api.github.com/issues\",\"keys_url\":\"https://api.github.com/user/keys\",\"label_search_url\":\"https://api.github.com/search/labels?q={query}&repository_id={repository_id}{&page,per_page}\",\"notifications_url\":\"https://api.github.com/notifications\",\"organization_url\":\"https://api.github.com/orgs/{org}\",\"organization_repositories_url\":\"https://api.github.com/orgs/{org}/repos{?type,page,per_page,sort}\",\"organization_teams_url\":\"https://api.github.com/orgs/{org}/teams\",\"public_gists_url\":\"https://api.github.com/gists/public\",\"rate_limit_url\":\"https://api.github.com/rate_limit\",\"repository_url\":\"https://api.github.com/repos/{owner}/{repo}\",\"repository_search_url\":\"https://api.github.com/search/repositories?q={query}{&page,per_page,sort,order}\",\"current_user_repositories_url\":\"https://api.github.com/user/repos{?type,page,per_page,sort}\",\"starred_url\":\"https://api.github.com/user/starred{/owner}{/repo}\",\"starred_gists_url\":\"https://api.github.com/gists/starred\",\"topic_search_url\":\"https://api.github.com/search/topics?q={query}{&page,per_page}\",\"user_url\":\"https://api.github.com/users/{user}\",\"user_organizations_url\":\"https://api.github.com/user/orgs\",\"user_repositories_url\":\"https://api.github.com/users/{user}/repos{?type,page,per_page,sort}\",\"user_search_url\":\"https://api.github.com/search/users?q={query}{&page,per_page,sort,order}\"}'"
      ]
     },
     "execution_count": 10,
     "metadata": {},
     "output_type": "execute_result"
    }
   ],
   "source": [
    "response = requests.get(\"https://api.github.com\")\n",
    "response.content"
   ]
  },
  {
   "cell_type": "code",
   "execution_count": 11,
   "id": "aa1f6c9c-5bf4-4fb7-96fc-34181894d27d",
   "metadata": {},
   "outputs": [
    {
     "data": {
      "text/plain": [
       "bytes"
      ]
     },
     "execution_count": 11,
     "metadata": {},
     "output_type": "execute_result"
    }
   ],
   "source": [
    "type(response.content)"
   ]
  },
  {
   "cell_type": "code",
   "execution_count": 12,
   "id": "e1cd594b-0cd5-42b1-82eb-d7acdb665deb",
   "metadata": {},
   "outputs": [
    {
     "data": {
      "text/plain": [
       "'{\"current_user_url\":\"https://api.github.com/user\",\"current_user_authorizations_html_url\":\"https://github.com/settings/connections/applications{/client_id}\",\"authorizations_url\":\"https://api.github.com/authorizations\",\"code_search_url\":\"https://api.github.com/search/code?q={query}{&page,per_page,sort,order}\",\"commit_search_url\":\"https://api.github.com/search/commits?q={query}{&page,per_page,sort,order}\",\"emails_url\":\"https://api.github.com/user/emails\",\"emojis_url\":\"https://api.github.com/emojis\",\"events_url\":\"https://api.github.com/events\",\"feeds_url\":\"https://api.github.com/feeds\",\"followers_url\":\"https://api.github.com/user/followers\",\"following_url\":\"https://api.github.com/user/following{/target}\",\"gists_url\":\"https://api.github.com/gists{/gist_id}\",\"hub_url\":\"https://api.github.com/hub\",\"issue_search_url\":\"https://api.github.com/search/issues?q={query}{&page,per_page,sort,order}\",\"issues_url\":\"https://api.github.com/issues\",\"keys_url\":\"https://api.github.com/user/keys\",\"label_search_url\":\"https://api.github.com/search/labels?q={query}&repository_id={repository_id}{&page,per_page}\",\"notifications_url\":\"https://api.github.com/notifications\",\"organization_url\":\"https://api.github.com/orgs/{org}\",\"organization_repositories_url\":\"https://api.github.com/orgs/{org}/repos{?type,page,per_page,sort}\",\"organization_teams_url\":\"https://api.github.com/orgs/{org}/teams\",\"public_gists_url\":\"https://api.github.com/gists/public\",\"rate_limit_url\":\"https://api.github.com/rate_limit\",\"repository_url\":\"https://api.github.com/repos/{owner}/{repo}\",\"repository_search_url\":\"https://api.github.com/search/repositories?q={query}{&page,per_page,sort,order}\",\"current_user_repositories_url\":\"https://api.github.com/user/repos{?type,page,per_page,sort}\",\"starred_url\":\"https://api.github.com/user/starred{/owner}{/repo}\",\"starred_gists_url\":\"https://api.github.com/gists/starred\",\"topic_search_url\":\"https://api.github.com/search/topics?q={query}{&page,per_page}\",\"user_url\":\"https://api.github.com/users/{user}\",\"user_organizations_url\":\"https://api.github.com/user/orgs\",\"user_repositories_url\":\"https://api.github.com/users/{user}/repos{?type,page,per_page,sort}\",\"user_search_url\":\"https://api.github.com/search/users?q={query}{&page,per_page,sort,order}\"}'"
      ]
     },
     "execution_count": 12,
     "metadata": {},
     "output_type": "execute_result"
    }
   ],
   "source": [
    "response.text"
   ]
  },
  {
   "cell_type": "code",
   "execution_count": 13,
   "id": "307674ed-4bf8-405f-bfea-00012259b254",
   "metadata": {},
   "outputs": [
    {
     "data": {
      "text/plain": [
       "str"
      ]
     },
     "execution_count": 13,
     "metadata": {},
     "output_type": "execute_result"
    }
   ],
   "source": [
    "type(response.text)"
   ]
  },
  {
   "cell_type": "code",
   "execution_count": 14,
   "id": "ac3a7846-8646-4d56-9b93-c0f7965eac37",
   "metadata": {},
   "outputs": [
    {
     "data": {
      "text/plain": [
       "{'current_user_url': 'https://api.github.com/user',\n",
       " 'current_user_authorizations_html_url': 'https://github.com/settings/connections/applications{/client_id}',\n",
       " 'authorizations_url': 'https://api.github.com/authorizations',\n",
       " 'code_search_url': 'https://api.github.com/search/code?q={query}{&page,per_page,sort,order}',\n",
       " 'commit_search_url': 'https://api.github.com/search/commits?q={query}{&page,per_page,sort,order}',\n",
       " 'emails_url': 'https://api.github.com/user/emails',\n",
       " 'emojis_url': 'https://api.github.com/emojis',\n",
       " 'events_url': 'https://api.github.com/events',\n",
       " 'feeds_url': 'https://api.github.com/feeds',\n",
       " 'followers_url': 'https://api.github.com/user/followers',\n",
       " 'following_url': 'https://api.github.com/user/following{/target}',\n",
       " 'gists_url': 'https://api.github.com/gists{/gist_id}',\n",
       " 'hub_url': 'https://api.github.com/hub',\n",
       " 'issue_search_url': 'https://api.github.com/search/issues?q={query}{&page,per_page,sort,order}',\n",
       " 'issues_url': 'https://api.github.com/issues',\n",
       " 'keys_url': 'https://api.github.com/user/keys',\n",
       " 'label_search_url': 'https://api.github.com/search/labels?q={query}&repository_id={repository_id}{&page,per_page}',\n",
       " 'notifications_url': 'https://api.github.com/notifications',\n",
       " 'organization_url': 'https://api.github.com/orgs/{org}',\n",
       " 'organization_repositories_url': 'https://api.github.com/orgs/{org}/repos{?type,page,per_page,sort}',\n",
       " 'organization_teams_url': 'https://api.github.com/orgs/{org}/teams',\n",
       " 'public_gists_url': 'https://api.github.com/gists/public',\n",
       " 'rate_limit_url': 'https://api.github.com/rate_limit',\n",
       " 'repository_url': 'https://api.github.com/repos/{owner}/{repo}',\n",
       " 'repository_search_url': 'https://api.github.com/search/repositories?q={query}{&page,per_page,sort,order}',\n",
       " 'current_user_repositories_url': 'https://api.github.com/user/repos{?type,page,per_page,sort}',\n",
       " 'starred_url': 'https://api.github.com/user/starred{/owner}{/repo}',\n",
       " 'starred_gists_url': 'https://api.github.com/gists/starred',\n",
       " 'topic_search_url': 'https://api.github.com/search/topics?q={query}{&page,per_page}',\n",
       " 'user_url': 'https://api.github.com/users/{user}',\n",
       " 'user_organizations_url': 'https://api.github.com/user/orgs',\n",
       " 'user_repositories_url': 'https://api.github.com/users/{user}/repos{?type,page,per_page,sort}',\n",
       " 'user_search_url': 'https://api.github.com/search/users?q={query}{&page,per_page,sort,order}'}"
      ]
     },
     "execution_count": 14,
     "metadata": {},
     "output_type": "execute_result"
    }
   ],
   "source": [
    "response.json()"
   ]
  },
  {
   "cell_type": "code",
   "execution_count": 15,
   "id": "9c6292c9-fcf1-4b13-a4e4-d3808930d4be",
   "metadata": {},
   "outputs": [
    {
     "data": {
      "text/plain": [
       "dict"
      ]
     },
     "execution_count": 15,
     "metadata": {},
     "output_type": "execute_result"
    }
   ],
   "source": [
    "type(response.json())"
   ]
  },
  {
   "cell_type": "code",
   "execution_count": 16,
   "id": "86fe1da0-140a-4602-bac3-aee982d78fc3",
   "metadata": {},
   "outputs": [
    {
     "data": {
      "text/plain": [
       "dict_keys(['current_user_url', 'current_user_authorizations_html_url', 'authorizations_url', 'code_search_url', 'commit_search_url', 'emails_url', 'emojis_url', 'events_url', 'feeds_url', 'followers_url', 'following_url', 'gists_url', 'hub_url', 'issue_search_url', 'issues_url', 'keys_url', 'label_search_url', 'notifications_url', 'organization_url', 'organization_repositories_url', 'organization_teams_url', 'public_gists_url', 'rate_limit_url', 'repository_url', 'repository_search_url', 'current_user_repositories_url', 'starred_url', 'starred_gists_url', 'topic_search_url', 'user_url', 'user_organizations_url', 'user_repositories_url', 'user_search_url'])"
      ]
     },
     "execution_count": 16,
     "metadata": {},
     "output_type": "execute_result"
    }
   ],
   "source": [
    "response_dict = response.json()\n",
    "response_dict.keys()"
   ]
  },
  {
   "cell_type": "code",
   "execution_count": 17,
   "id": "5e61d7f4-38e6-4dc8-bf21-ee4c214084d3",
   "metadata": {},
   "outputs": [
    {
     "data": {
      "text/plain": [
       "'https://api.github.com/user/emails'"
      ]
     },
     "execution_count": 17,
     "metadata": {},
     "output_type": "execute_result"
    }
   ],
   "source": [
    "response_dict[\"emails_url\"]"
   ]
  },
  {
   "cell_type": "markdown",
   "id": "0cec9641-8c01-4618-9978-d2dcd2728da5",
   "metadata": {},
   "source": [
    "## Response Headers"
   ]
  },
  {
   "cell_type": "code",
   "execution_count": 18,
   "id": "ad45bb3e-0e34-4148-9238-1e7a0d610ed7",
   "metadata": {},
   "outputs": [
    {
     "data": {
      "text/plain": [
       "{'Server': 'GitHub.com', 'Date': 'Sat, 09 Mar 2024 05:28:16 GMT', 'Content-Type': 'application/json; charset=utf-8', 'Cache-Control': 'public, max-age=60, s-maxage=60', 'Vary': 'Accept, Accept-Encoding, Accept, X-Requested-With', 'ETag': 'W/\"4f825cc84e1c733059d46e76e6df9db557ae5254f9625dfe8e1b09499c449438\"', 'X-GitHub-Media-Type': 'github.v3; format=json', 'x-github-api-version-selected': '2022-11-28', 'Access-Control-Expose-Headers': 'ETag, Link, Location, Retry-After, X-GitHub-OTP, X-RateLimit-Limit, X-RateLimit-Remaining, X-RateLimit-Used, X-RateLimit-Resource, X-RateLimit-Reset, X-OAuth-Scopes, X-Accepted-OAuth-Scopes, X-Poll-Interval, X-GitHub-Media-Type, X-GitHub-SSO, X-GitHub-Request-Id, Deprecation, Sunset', 'Access-Control-Allow-Origin': '*', 'Strict-Transport-Security': 'max-age=31536000; includeSubdomains; preload', 'X-Frame-Options': 'deny', 'X-Content-Type-Options': 'nosniff', 'X-XSS-Protection': '0', 'Referrer-Policy': 'origin-when-cross-origin, strict-origin-when-cross-origin', 'Content-Security-Policy': \"default-src 'none'\", 'Content-Encoding': 'gzip', 'X-RateLimit-Limit': '60', 'X-RateLimit-Remaining': '47', 'X-RateLimit-Reset': '1709965056', 'X-RateLimit-Resource': 'core', 'X-RateLimit-Used': '13', 'Accept-Ranges': 'bytes', 'Content-Length': '510', 'X-GitHub-Request-Id': 'B992:1D1113:11939C1:12672F9:65EBF371'}"
      ]
     },
     "execution_count": 18,
     "metadata": {},
     "output_type": "execute_result"
    }
   ],
   "source": [
    "response = requests.get(\"https://api.github.com\")\n",
    "response.headers"
   ]
  },
  {
   "cell_type": "code",
   "execution_count": 19,
   "id": "3cfe9221-77ee-45f7-9e78-c95daf02133e",
   "metadata": {},
   "outputs": [
    {
     "data": {
      "text/plain": [
       "requests.structures.CaseInsensitiveDict"
      ]
     },
     "execution_count": 19,
     "metadata": {},
     "output_type": "execute_result"
    }
   ],
   "source": [
    "type(response.headers)"
   ]
  },
  {
   "cell_type": "code",
   "execution_count": 20,
   "id": "e6496857-283a-4547-8451-56559147194f",
   "metadata": {},
   "outputs": [
    {
     "data": {
      "text/plain": [
       "'application/json; charset=utf-8'"
      ]
     },
     "execution_count": 20,
     "metadata": {},
     "output_type": "execute_result"
    }
   ],
   "source": [
    "response.headers[\"Content-Type\"]\n",
    "# response.headers[\"content-type\"]"
   ]
  },
  {
   "cell_type": "markdown",
   "id": "8b19546d-9cec-4d97-baad-70ad18837a80",
   "metadata": {},
   "source": [
    "## Query String Parameters"
   ]
  },
  {
   "cell_type": "code",
   "execution_count": 21,
   "id": "b974cdc5-a144-47c7-ac48-d55e54ad15ed",
   "metadata": {},
   "outputs": [
    {
     "name": "stdout",
     "output_type": "stream",
     "text": [
      "Name: public-apis\n",
      "Description: A collective list of free APIs\n",
      "Stars: 284662\n",
      "\n",
      "Name: system-design-primer\n",
      "Description: Learn how to design large-scale systems. Prep for the system design interview.  Includes Anki flashcards.\n",
      "Stars: 248424\n",
      "\n",
      "Name: awesome-python\n",
      "Description: An opinionated list of awesome Python frameworks, libraries, software and resources.\n",
      "Stars: 200283\n",
      "\n"
     ]
    }
   ],
   "source": [
    "# Search GitHub's repositories for popular Python projects\n",
    "params = {\"q\": \"language:python\", \"sort\": \"stars\", \"order\": \"desc\"}\n",
    "response = requests.get(\"https://api.github.com/search/repositories\", params=params)\n",
    "\n",
    "# Inspect some attributes of the first three repositories\n",
    "json_response = response.json()\n",
    "popular_repositories = json_response[\"items\"]\n",
    "for repo in popular_repositories[:3]:\n",
    "    print(f\"Name: {repo['name']}\")\n",
    "    print(f\"Description: {repo['description']}\")\n",
    "    print(f\"Stars: {repo['stargazers_count']}\")\n",
    "    print()"
   ]
  },
  {
   "cell_type": "markdown",
   "id": "17c83d30-b481-44cd-9c2f-1cce40d57355",
   "metadata": {},
   "source": [
    "## Request Headers"
   ]
  },
  {
   "cell_type": "code",
   "execution_count": 22,
   "id": "4649793b-2d21-448e-a6fa-7fd5ce6c3309",
   "metadata": {},
   "outputs": [
    {
     "data": {
      "text/plain": [
       "\u001b[0;31mSignature:\u001b[0m \u001b[0mrequests\u001b[0m\u001b[0;34m.\u001b[0m\u001b[0mget\u001b[0m\u001b[0;34m(\u001b[0m\u001b[0murl\u001b[0m\u001b[0;34m,\u001b[0m \u001b[0mparams\u001b[0m\u001b[0;34m=\u001b[0m\u001b[0;32mNone\u001b[0m\u001b[0;34m,\u001b[0m \u001b[0;34m**\u001b[0m\u001b[0mkwargs\u001b[0m\u001b[0;34m)\u001b[0m\u001b[0;34m\u001b[0m\u001b[0;34m\u001b[0m\u001b[0m\n",
       "\u001b[0;31mDocstring:\u001b[0m\n",
       "Sends a GET request.\n",
       "\n",
       ":param url: URL for the new :class:`Request` object.\n",
       ":param params: (optional) Dictionary, list of tuples or bytes to send\n",
       "    in the query string for the :class:`Request`.\n",
       ":param \\*\\*kwargs: Optional arguments that ``request`` takes.\n",
       ":return: :class:`Response <Response>` object\n",
       ":rtype: requests.Response\n",
       "\u001b[0;31mFile:\u001b[0m      ~/anaconda3/envs/python310/lib/python3.10/site-packages/requests/api.py\n",
       "\u001b[0;31mType:\u001b[0m      function"
      ]
     },
     "metadata": {},
     "output_type": "display_data"
    }
   ],
   "source": [
    "requests.get?"
   ]
  },
  {
   "cell_type": "code",
   "execution_count": 23,
   "id": "6de503d5-6ee4-466e-b82f-420632aa1ec9",
   "metadata": {},
   "outputs": [
    {
     "name": "stdout",
     "output_type": "stream",
     "text": [
      "[{'text': 'Real Python', 'indices': [23, 34]}]\n"
     ]
    }
   ],
   "source": [
    "response = requests.get(\n",
    "    url=\"https://api.github.com/search/repositories\",\n",
    "    params={\"q\": '\"real python\"'},\n",
    "    headers={\"Accept\": \"application/vnd.github.text-match+json\"},\n",
    ")\n",
    "\n",
    "# View the new `text-matches` list which provides information\n",
    "# about your search term within the results\n",
    "json_response = response.json()\n",
    "first_repository = json_response[\"items\"][0]\n",
    "print(first_repository[\"text_matches\"][0][\"matches\"])"
   ]
  },
  {
   "cell_type": "markdown",
   "id": "01aec148-4d42-4c50-9e39-4f4b16880d02",
   "metadata": {},
   "source": [
    "## Message Body"
   ]
  },
  {
   "cell_type": "markdown",
   "id": "6665a66e-ef45-4f70-a632-2e5650704eba",
   "metadata": {
    "jp-MarkdownHeadingCollapsed": true
   },
   "source": [
    "##### According to the HTTP specification, `POST`, `PUT`, and the less common `PATCH` requests pass their data through the `message body` rather than through `parameters` in the `query string`. Using `Requests` module, you’ll pass the payload to the corresponding function’s `data` parameter."
   ]
  },
  {
   "cell_type": "code",
   "execution_count": 24,
   "id": "cd90c8d4-5404-4922-ae6d-9f0c23811f2d",
   "metadata": {},
   "outputs": [
    {
     "data": {
      "text/plain": [
       "{'args': {},\n",
       " 'data': '',\n",
       " 'files': {},\n",
       " 'form': {'key': 'value'},\n",
       " 'headers': {'Accept': '*/*',\n",
       "  'Accept-Encoding': 'gzip, deflate',\n",
       "  'Content-Length': '9',\n",
       "  'Content-Type': 'application/x-www-form-urlencoded',\n",
       "  'Host': 'httpbin.org',\n",
       "  'User-Agent': 'python-requests/2.31.0',\n",
       "  'X-Amzn-Trace-Id': 'Root=1-65ebf374-1de94b041bd802aa73334f1f'},\n",
       " 'json': None,\n",
       " 'origin': '202.80.217.107',\n",
       " 'url': 'https://httpbin.org/post'}"
      ]
     },
     "execution_count": 24,
     "metadata": {},
     "output_type": "execute_result"
    }
   ],
   "source": [
    "response = requests.post(\"https://httpbin.org/post\", data={\"key\": \"value\"})\n",
    "response.json()"
   ]
  },
  {
   "cell_type": "markdown",
   "id": "dc987b2f-167c-44f9-bed6-a4301bda9bb2",
   "metadata": {},
   "source": [
    "##### If you need to send `JSON` data, then you can use the `json` parameter. When you pass JSON data via json, Requests will serialize your data and add the correct `Content-Type` header for you."
   ]
  },
  {
   "cell_type": "code",
   "execution_count": 25,
   "id": "6cd5d84b-b373-4cfe-a7ac-0028344daeb8",
   "metadata": {},
   "outputs": [
    {
     "data": {
      "text/plain": [
       "{'args': {},\n",
       " 'data': '{\"key\": \"value\"}',\n",
       " 'files': {},\n",
       " 'form': {},\n",
       " 'headers': {'Accept': '*/*',\n",
       "  'Accept-Encoding': 'gzip, deflate',\n",
       "  'Content-Length': '16',\n",
       "  'Content-Type': 'application/json',\n",
       "  'Host': 'httpbin.org',\n",
       "  'User-Agent': 'python-requests/2.31.0',\n",
       "  'X-Amzn-Trace-Id': 'Root=1-65ebf375-24b0d8654be52f6a628d7203'},\n",
       " 'json': {'key': 'value'},\n",
       " 'origin': '202.80.217.107',\n",
       " 'url': 'https://httpbin.org/post'}"
      ]
     },
     "execution_count": 25,
     "metadata": {},
     "output_type": "execute_result"
    }
   ],
   "source": [
    "response = requests.post(\"https://httpbin.org/post\", json={\"key\": \"value\"})\n",
    "response.json()"
   ]
  },
  {
   "cell_type": "markdown",
   "id": "b690f9c3-eccf-43ea-a81d-1076e2d365bb",
   "metadata": {},
   "source": [
    "## Request Inspection"
   ]
  },
  {
   "cell_type": "markdown",
   "id": "6d9134ad-be30-4110-8a03-2b3f9e76d8b3",
   "metadata": {},
   "source": [
    "##### When you make a request, the `Requests` library prepares the request before actually sending it to the destination server. "
   ]
  },
  {
   "cell_type": "code",
   "execution_count": 26,
   "id": "ef39277c-43d0-47bc-8103-d2c4b5881c36",
   "metadata": {},
   "outputs": [],
   "source": [
    "response = requests.post(\"https://httpbin.org/post\", json={\"key\":\"value\"})"
   ]
  },
  {
   "cell_type": "code",
   "execution_count": 27,
   "id": "bb50a0cd-36ac-4dfe-8672-06b4cb9114cc",
   "metadata": {},
   "outputs": [
    {
     "data": {
      "text/plain": [
       "requests.models.PreparedRequest"
      ]
     },
     "execution_count": 27,
     "metadata": {},
     "output_type": "execute_result"
    }
   ],
   "source": [
    "type(response.request)"
   ]
  },
  {
   "cell_type": "code",
   "execution_count": 28,
   "id": "fcfd6266-8fee-40bf-bdb4-678c4225acee",
   "metadata": {},
   "outputs": [
    {
     "data": {
      "text/plain": [
       "{'User-Agent': 'python-requests/2.31.0', 'Accept-Encoding': 'gzip, deflate', 'Accept': '*/*', 'Connection': 'keep-alive', 'Content-Length': '16', 'Content-Type': 'application/json'}"
      ]
     },
     "execution_count": 28,
     "metadata": {},
     "output_type": "execute_result"
    }
   ],
   "source": [
    "response.request.headers"
   ]
  },
  {
   "cell_type": "code",
   "execution_count": 29,
   "id": "0fe8ea07-9379-4254-ab34-f70c5ae10246",
   "metadata": {},
   "outputs": [
    {
     "data": {
      "text/plain": [
       "'https://httpbin.org/post'"
      ]
     },
     "execution_count": 29,
     "metadata": {},
     "output_type": "execute_result"
    }
   ],
   "source": [
    "response.request.url"
   ]
  },
  {
   "cell_type": "code",
   "execution_count": 30,
   "id": "d7bd37a8-7494-455b-a1b8-9d21d30116e8",
   "metadata": {},
   "outputs": [
    {
     "data": {
      "text/plain": [
       "b'{\"key\": \"value\"}'"
      ]
     },
     "execution_count": 30,
     "metadata": {},
     "output_type": "execute_result"
    }
   ],
   "source": [
    "response.request.body"
   ]
  },
  {
   "cell_type": "markdown",
   "id": "28ebb0c9-f1b9-4635-b200-5da8e2935f64",
   "metadata": {},
   "source": [
    "## Authentication"
   ]
  },
  {
   "cell_type": "markdown",
   "id": "b6ec4d51-8d7d-4c15-b785-452e9e0889ca",
   "metadata": {},
   "source": [
    "Authentication helps a service understand who you are. Typically, you provide your credentials to a server by passing data through the `Authorization` header or a custom header defined by the service. All the functions of Requests that you’ve seen to this point provide a parameter called `auth`, which allows you to pass your credentials:"
   ]
  },
  {
   "cell_type": "code",
   "execution_count": 31,
   "id": "f674d262-47c9-418f-9474-6e3732b77803",
   "metadata": {},
   "outputs": [],
   "source": [
    "response = requests.get(\n",
    "    url=\"https://httpbin.org/basic-auth/user/passwd\",\n",
    "    auth=(\"user\", \"passwd\")\n",
    ")"
   ]
  },
  {
   "cell_type": "code",
   "execution_count": 32,
   "id": "8d93e01c-557d-4459-9b2a-bc63f5957242",
   "metadata": {},
   "outputs": [
    {
     "data": {
      "text/plain": [
       "200"
      ]
     },
     "execution_count": 32,
     "metadata": {},
     "output_type": "execute_result"
    }
   ],
   "source": [
    "response.status_code"
   ]
  },
  {
   "cell_type": "code",
   "execution_count": 33,
   "id": "457a9da8-373b-40de-b0ea-862a4c726227",
   "metadata": {},
   "outputs": [
    {
     "data": {
      "text/plain": [
       "{'User-Agent': 'python-requests/2.31.0', 'Accept-Encoding': 'gzip, deflate', 'Accept': '*/*', 'Connection': 'keep-alive', 'Authorization': 'Basic dXNlcjpwYXNzd2Q='}"
      ]
     },
     "execution_count": 33,
     "metadata": {},
     "output_type": "execute_result"
    }
   ],
   "source": [
    "response.request.headers"
   ]
  },
  {
   "cell_type": "markdown",
   "id": "e35f5177-e61b-4384-9499-f5afe86914ac",
   "metadata": {},
   "source": [
    "##### Base64 Encoding"
   ]
  },
  {
   "cell_type": "code",
   "execution_count": 34,
   "id": "2c4f682a-90d0-457d-8a94-20d1dfb84245",
   "metadata": {},
   "outputs": [
    {
     "data": {
      "text/plain": [
       "'dXNlcjpwYXNzd2Q='"
      ]
     },
     "execution_count": 34,
     "metadata": {},
     "output_type": "execute_result"
    }
   ],
   "source": [
    "import base64\n",
    "plain_data = \"user:passwd\".encode(\"utf-8\")\n",
    "base64.b64encode(plain_data).decode(\"utf-8\")"
   ]
  },
  {
   "cell_type": "markdown",
   "id": "cad093a0-efd1-44dc-9323-f13349935e54",
   "metadata": {},
   "source": [
    "## Timeout"
   ]
  },
  {
   "cell_type": "markdown",
   "id": "22099596-79c9-438b-852a-1355aaba5433",
   "metadata": {},
   "source": [
    "By default, `Requests` will wait indefinitely on the response, so you should almost always specify a timeout duration to prevent these issues from happening. To set the request’s timeout, use the `timeout` parameter. timeout can be an `integer` or `float` representing the number of `seconds` to wait on a response before timing out."
   ]
  },
  {
   "cell_type": "code",
   "execution_count": 35,
   "id": "2edfe20b-f6bb-48e9-a05c-1955cad08f2b",
   "metadata": {},
   "outputs": [
    {
     "data": {
      "text/plain": [
       "<Response [200]>"
      ]
     },
     "execution_count": 35,
     "metadata": {},
     "output_type": "execute_result"
    }
   ],
   "source": [
    "response = requests.get(\"https://api.github.com\", timeout=1)\n",
    "response "
   ]
  },
  {
   "cell_type": "code",
   "execution_count": 36,
   "id": "1813895c-c481-4d5d-abf9-44f896db3eb3",
   "metadata": {},
   "outputs": [
    {
     "data": {
      "text/plain": [
       "<Response [200]>"
      ]
     },
     "execution_count": 36,
     "metadata": {},
     "output_type": "execute_result"
    }
   ],
   "source": [
    "response = requests.get(\"https://api.github.com\", timeout=3.05)\n",
    "response"
   ]
  },
  {
   "cell_type": "markdown",
   "id": "d661768b-339a-46d0-8f69-286f8d26a958",
   "metadata": {},
   "source": [
    "## End of Tutorial\n",
    "\n",
    "Salam Indonesia Belajar<br/>\n",
    "Banyak Belajar Biar bisa Bantu Banyak Orang<br/>\n",
    "[https://www.youtube.com/@belajaridn](https://www.youtube.com/@belajaridn)"
   ]
  }
 ],
 "metadata": {
  "kernelspec": {
   "display_name": "Python 3 (ipykernel)",
   "language": "python",
   "name": "python3"
  },
  "language_info": {
   "codemirror_mode": {
    "name": "ipython",
    "version": 3
   },
   "file_extension": ".py",
   "mimetype": "text/x-python",
   "name": "python",
   "nbconvert_exporter": "python",
   "pygments_lexer": "ipython3",
   "version": "3.10.13"
  }
 },
 "nbformat": 4,
 "nbformat_minor": 5
}
